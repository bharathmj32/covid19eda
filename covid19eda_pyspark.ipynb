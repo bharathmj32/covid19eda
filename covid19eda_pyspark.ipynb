{
 "cells": [
  {
   "cell_type": "code",
   "execution_count": 1,
   "id": "250c524c-9328-45e9-9842-f5d10a861ec2",
   "metadata": {
    "tags": []
   },
   "outputs": [
    {
     "data": {
      "text/plain": [
       "'C:\\\\BigDataLocalSetup\\\\Spark'"
      ]
     },
     "execution_count": 1,
     "metadata": {},
     "output_type": "execute_result"
    }
   ],
   "source": [
    "import findspark\n",
    "findspark.init()\n",
    "findspark.find()"
   ]
  },
  {
   "cell_type": "code",
   "execution_count": 2,
   "id": "4e31461b-6358-4fcb-ab34-3873e509f1fd",
   "metadata": {
    "tags": []
   },
   "outputs": [
    {
     "name": "stdout",
     "output_type": "stream",
     "text": [
      "['Accumulator', 'AccumulatorParam', 'BarrierTaskContext', 'BarrierTaskInfo', 'BasicProfiler', 'Broadcast', 'HiveContext', 'MarshalSerializer', 'PickleSerializer', 'Profiler', 'RDD', 'RDDBarrier', 'Row', 'SQLContext', 'SparkConf', 'SparkContext', 'SparkFiles', 'SparkJobInfo', 'SparkStageInfo', 'StatusTracker', 'StorageLevel', 'TaskContext', '_NoValue', '__all__', '__builtins__', '__cached__', '__doc__', '__file__', '__loader__', '__name__', '__package__', '__path__', '__spec__', '__version__', '_globals', 'accumulators', 'broadcast', 'cloudpickle', 'conf', 'context', 'copy_func', 'files', 'find_spark_home', 'heapq3', 'java_gateway', 'join', 'keyword_only', 'profiler', 'rdd', 'rddsampler', 'resource', 'resultiterable', 'serializers', 'shuffle', 'since', 'sql', 'statcounter', 'status', 'storagelevel', 'taskcontext', 'traceback_utils', 'types', 'util', 'version', 'wraps']\n",
      "['Catalog', 'Column', 'DataFrame', 'DataFrameNaFunctions', 'DataFrameReader', 'DataFrameStatFunctions', 'DataFrameWriter', 'GroupedData', 'HiveContext', 'PandasCogroupedOps', 'Row', 'SQLContext', 'SparkSession', 'UDFRegistration', 'Window', 'WindowSpec', '__all__', '__builtins__', '__cached__', '__doc__', '__file__', '__loader__', '__name__', '__package__', '__path__', '__spec__', 'absolute_import', 'catalog', 'column', 'conf', 'context', 'dataframe', 'group', 'pandas', 'readwriter', 'session', 'streaming', 'types', 'udf', 'utils', 'window']\n"
     ]
    }
   ],
   "source": [
    "import pyspark\n",
    "import pyspark.sql \n",
    "print(dir(pyspark))\n",
    "print(dir(pyspark.sql))"
   ]
  },
  {
   "cell_type": "code",
   "execution_count": 3,
   "id": "e8a6ac1f-cd76-4965-a1c3-884512221c1b",
   "metadata": {
    "tags": []
   },
   "outputs": [],
   "source": [
    "from pyspark.sql import SparkSession\n",
    "from pyspark.sql import Column\n",
    "from pyspark.sql.functions import upper\n",
    "from pyspark.sql.functions import isnan, when, count, col, sum, desc, asc\n",
    "spark = SparkSession.builder.appName(\"HelloWorldApp\").master('local[*]').getOrCreate()"
   ]
  },
  {
   "cell_type": "code",
   "execution_count": 4,
   "id": "74b356f9-ae96-4b52-874b-2bc357a0c95b",
   "metadata": {},
   "outputs": [],
   "source": [
    "data_frame=spark.read.csv(\"C:\\\\Users\\\\Bharath\\\\Desktop\\\\eda\\\\dataset\\\\covid_19_india.csv\", inferSchema=True, header =True)\n",
    "data_frame2=spark.read.csv(\"C:\\\\Users\\\\Bharath\\\\Desktop\\\\eda\\\\dataset\\\\covid_vaccine_statewise.csv\", inferSchema=True, header =True)\n",
    "data_frame3=spark.read.csv(\"C:\\\\Users\\\\Bharath\\\\Desktop\\\\eda\\\\dataset\\\\StatewiseTestingDetails.csv\", inferSchema=True, header =True)"
   ]
  },
  {
   "cell_type": "code",
   "execution_count": null,
   "id": "3be6149f-5886-40b2-8405-9e14f3467af3",
   "metadata": {},
   "outputs": [],
   "source": []
  },
  {
   "cell_type": "code",
   "execution_count": null,
   "id": "5730dd27-916c-4b2d-8021-51d2ca78b76a",
   "metadata": {},
   "outputs": [],
   "source": []
  },
  {
   "cell_type": "code",
   "execution_count": null,
   "id": "a08099c3-e6a8-4376-a07c-585a40b485cc",
   "metadata": {},
   "outputs": [],
   "source": []
  },
  {
   "cell_type": "code",
   "execution_count": null,
   "id": "d56c743a-c08a-45ac-a2fa-fd02909af72a",
   "metadata": {},
   "outputs": [],
   "source": []
  },
  {
   "cell_type": "code",
   "execution_count": null,
   "id": "2a5f4a15-5ea5-4bc7-9540-83227ccff700",
   "metadata": {},
   "outputs": [],
   "source": []
  },
  {
   "cell_type": "code",
   "execution_count": 5,
   "id": "79ae1248-7a14-49a8-95da-8176388c7dc1",
   "metadata": {
    "tags": []
   },
   "outputs": [
    {
     "name": "stdout",
     "output_type": "stream",
     "text": [
      "****************covid_19_india.csv******************************\n",
      "\n",
      "root\n",
      " |-- Sno: integer (nullable = true)\n",
      " |-- Date: string (nullable = true)\n",
      " |-- Time: string (nullable = true)\n",
      " |-- State/UnionTerritory: string (nullable = true)\n",
      " |-- ConfirmedIndianNational: string (nullable = true)\n",
      " |-- ConfirmedForeignNational: string (nullable = true)\n",
      " |-- Cured: integer (nullable = true)\n",
      " |-- Deaths: integer (nullable = true)\n",
      " |-- Confirmed: integer (nullable = true)\n",
      "\n"
     ]
    }
   ],
   "source": [
    "print(\"****************covid_19_india.csv******************************\\n\")\n",
    "data_frame.printSchema()\n",
    "spark.conf.set('spark.sql.repl.eagerEval.enabled', True)"
   ]
  },
  {
   "cell_type": "code",
   "execution_count": 6,
   "id": "341d7ba2-f907-4f2a-ac0f-5ae56c1f8eb5",
   "metadata": {
    "tags": []
   },
   "outputs": [
    {
     "data": {
      "text/plain": [
       "['Sno',\n",
       " 'Date',\n",
       " 'Time',\n",
       " 'State/UnionTerritory',\n",
       " 'ConfirmedIndianNational',\n",
       " 'ConfirmedForeignNational',\n",
       " 'Cured',\n",
       " 'Deaths',\n",
       " 'Confirmed']"
      ]
     },
     "execution_count": 6,
     "metadata": {},
     "output_type": "execute_result"
    }
   ],
   "source": [
    "data_frame.columns"
   ]
  },
  {
   "cell_type": "code",
   "execution_count": 7,
   "id": "f96dbb22-611f-4c02-89b7-b2f2699a66d0",
   "metadata": {
    "tags": []
   },
   "outputs": [
    {
     "data": {
      "text/plain": [
       "9"
      ]
     },
     "execution_count": 7,
     "metadata": {},
     "output_type": "execute_result"
    }
   ],
   "source": [
    "len(data_frame.columns)"
   ]
  },
  {
   "cell_type": "code",
   "execution_count": 8,
   "id": "d63514df-7fa4-4d13-af0e-69239cce9c21",
   "metadata": {
    "tags": []
   },
   "outputs": [
    {
     "data": {
      "text/plain": [
       "16526"
      ]
     },
     "execution_count": 8,
     "metadata": {},
     "output_type": "execute_result"
    }
   ],
   "source": [
    "data_frame.count()"
   ]
  },
  {
   "cell_type": "code",
   "execution_count": 9,
   "id": "74997a56-f2a1-4115-b95d-3796daa52b67",
   "metadata": {
    "tags": []
   },
   "outputs": [
    {
     "name": "stdout",
     "output_type": "stream",
     "text": [
      "+---+----------+-------+--------------------+-----------------------+------------------------+-----+------+---------+-----------+\n",
      "|Sno|      Date|   Time|State/UnionTerritory|ConfirmedIndianNational|ConfirmedForeignNational|Cured|Deaths|Confirmed|ActiveCases|\n",
      "+---+----------+-------+--------------------+-----------------------+------------------------+-----+------+---------+-----------+\n",
      "|  1|2020-01-30|6:00 PM|              Kerala|                      1|                       0|    0|     0|        1|          1|\n",
      "|  2|2020-01-31|6:00 PM|              Kerala|                      1|                       0|    0|     0|        1|          1|\n",
      "|  3|2020-02-01|6:00 PM|              Kerala|                      2|                       0|    0|     0|        2|          2|\n",
      "|  4|2020-02-02|6:00 PM|              Kerala|                      3|                       0|    0|     0|        3|          3|\n",
      "|  5|2020-02-03|6:00 PM|              Kerala|                      3|                       0|    0|     0|        3|          3|\n",
      "|  6|2020-02-04|6:00 PM|              Kerala|                      3|                       0|    0|     0|        3|          3|\n",
      "|  7|2020-02-05|6:00 PM|              Kerala|                      3|                       0|    0|     0|        3|          3|\n",
      "|  8|2020-02-06|6:00 PM|              Kerala|                      3|                       0|    0|     0|        3|          3|\n",
      "|  9|2020-02-07|6:00 PM|              Kerala|                      3|                       0|    0|     0|        3|          3|\n",
      "| 10|2020-02-08|6:00 PM|              Kerala|                      3|                       0|    0|     0|        3|          3|\n",
      "| 11|2020-02-09|6:00 PM|              Kerala|                      3|                       0|    0|     0|        3|          3|\n",
      "| 12|2020-02-10|6:00 PM|              Kerala|                      3|                       0|    0|     0|        3|          3|\n",
      "| 13|2020-02-11|6:00 PM|              Kerala|                      3|                       0|    0|     0|        3|          3|\n",
      "| 14|2020-02-12|6:00 PM|              Kerala|                      3|                       0|    0|     0|        3|          3|\n",
      "| 15|2020-02-13|6:00 PM|              Kerala|                      3|                       0|    0|     0|        3|          3|\n",
      "| 16|2020-02-14|6:00 PM|              Kerala|                      3|                       0|    0|     0|        3|          3|\n",
      "| 17|2020-02-15|6:00 PM|              Kerala|                      3|                       0|    0|     0|        3|          3|\n",
      "| 18|2020-02-16|6:00 PM|              Kerala|                      3|                       0|    0|     0|        3|          3|\n",
      "| 19|2020-02-17|6:00 PM|              Kerala|                      3|                       0|    0|     0|        3|          3|\n",
      "| 20|2020-02-18|6:00 PM|              Kerala|                      3|                       0|    0|     0|        3|          3|\n",
      "+---+----------+-------+--------------------+-----------------------+------------------------+-----+------+---------+-----------+\n",
      "only showing top 20 rows\n",
      "\n"
     ]
    }
   ],
   "source": [
    "data_frame.withColumn('ActiveCases', data_frame.Confirmed-data_frame.Deaths-data_frame.Cured).show()"
   ]
  },
  {
   "cell_type": "code",
   "execution_count": 10,
   "id": "0411bf97-f14f-42b2-93ec-04865a3f9e98",
   "metadata": {
    "tags": []
   },
   "outputs": [
    {
     "name": "stdout",
     "output_type": "stream",
     "text": [
      "+---+----------+-------+--------------------+-----------------------+------------------------+-----+------+---------+-------+\n",
      "|Sno|      Date|   Time|State/UnionTerritory|ConfirmedIndianNational|ConfirmedForeignNational|Cured|Deaths|Confirmed|confirm|\n",
      "+---+----------+-------+--------------------+-----------------------+------------------------+-----+------+---------+-------+\n",
      "|  1|2020-01-30|6:00 PM|              Kerala|                      1|                       0|    0|     0|        1|      1|\n",
      "|  2|2020-01-31|6:00 PM|              Kerala|                      1|                       0|    0|     0|        1|      1|\n",
      "|  3|2020-02-01|6:00 PM|              Kerala|                      2|                       0|    0|     0|        2|      2|\n",
      "|  4|2020-02-02|6:00 PM|              Kerala|                      3|                       0|    0|     0|        3|      3|\n",
      "|  5|2020-02-03|6:00 PM|              Kerala|                      3|                       0|    0|     0|        3|      3|\n",
      "|  6|2020-02-04|6:00 PM|              Kerala|                      3|                       0|    0|     0|        3|      3|\n",
      "|  7|2020-02-05|6:00 PM|              Kerala|                      3|                       0|    0|     0|        3|      3|\n",
      "|  8|2020-02-06|6:00 PM|              Kerala|                      3|                       0|    0|     0|        3|      3|\n",
      "|  9|2020-02-07|6:00 PM|              Kerala|                      3|                       0|    0|     0|        3|      3|\n",
      "| 10|2020-02-08|6:00 PM|              Kerala|                      3|                       0|    0|     0|        3|      3|\n",
      "| 11|2020-02-09|6:00 PM|              Kerala|                      3|                       0|    0|     0|        3|      3|\n",
      "| 12|2020-02-10|6:00 PM|              Kerala|                      3|                       0|    0|     0|        3|      3|\n",
      "| 13|2020-02-11|6:00 PM|              Kerala|                      3|                       0|    0|     0|        3|      3|\n",
      "| 14|2020-02-12|6:00 PM|              Kerala|                      3|                       0|    0|     0|        3|      3|\n",
      "| 15|2020-02-13|6:00 PM|              Kerala|                      3|                       0|    0|     0|        3|      3|\n",
      "| 16|2020-02-14|6:00 PM|              Kerala|                      3|                       0|    0|     0|        3|      3|\n",
      "| 17|2020-02-15|6:00 PM|              Kerala|                      3|                       0|    0|     0|        3|      3|\n",
      "| 18|2020-02-16|6:00 PM|              Kerala|                      3|                       0|    0|     0|        3|      3|\n",
      "| 19|2020-02-17|6:00 PM|              Kerala|                      3|                       0|    0|     0|        3|      3|\n",
      "| 20|2020-02-18|6:00 PM|              Kerala|                      3|                       0|    0|     0|        3|      3|\n",
      "+---+----------+-------+--------------------+-----------------------+------------------------+-----+------+---------+-------+\n",
      "only showing top 20 rows\n",
      "\n"
     ]
    }
   ],
   "source": [
    "# Using select() to Add Multiple Column\n",
    "data_frame.select('*', ((data_frame.Confirmed-(data_frame.Cured + data_frame.Deaths)).alias('confirm'))).show()"
   ]
  },
  {
   "cell_type": "code",
   "execution_count": 11,
   "id": "d88c2fbd-93b8-47be-ab3e-96b520b439dd",
   "metadata": {
    "tags": []
   },
   "outputs": [
    {
     "name": "stdout",
     "output_type": "stream",
     "text": [
      "-RECORD 0----------------------------------------\n",
      " summary                  | count                \n",
      " Sno                      | 16526                \n",
      " Date                     | 16526                \n",
      " Time                     | 16526                \n",
      " State/UnionTerritory     | 16526                \n",
      " ConfirmedIndianNational  | 16526                \n",
      " ConfirmedForeignNational | 16526                \n",
      " Cured                    | 16526                \n",
      " Deaths                   | 16526                \n",
      " Confirmed                | 16526                \n",
      "-RECORD 1----------------------------------------\n",
      " summary                  | mean                 \n",
      " Sno                      | 8263.5               \n",
      " Date                     | null                 \n",
      " Time                     | null                 \n",
      " State/UnionTerritory     | null                 \n",
      " ConfirmedIndianNational  | 12.188340807174887   \n",
      " ConfirmedForeignNational | 1.4955156950672646   \n",
      " Cured                    | 224545.9802735084    \n",
      " Deaths                   | 3335.16053491468     \n",
      " Confirmed                | 246823.90312235267   \n",
      "-RECORD 2----------------------------------------\n",
      " summary                  | stddev               \n",
      " Sno                      | 4770.789609697749    \n",
      " Date                     | null                 \n",
      " Time                     | null                 \n",
      " State/UnionTerritory     | null                 \n",
      " ConfirmedIndianNational  | 21.582253392789077   \n",
      " ConfirmedForeignNational | 3.57629242180641     \n",
      " Cured                    | 495453.45797039923   \n",
      " Deaths                   | 8890.528988545258    \n",
      " Confirmed                | 541404.365345987     \n",
      "-RECORD 3----------------------------------------\n",
      " summary                  | min                  \n",
      " Sno                      | 1                    \n",
      " Date                     | 2020-01-30           \n",
      " Time                     | 10:00 AM             \n",
      " State/UnionTerritory     | Andaman and Nicob... \n",
      " ConfirmedIndianNational  | -                    \n",
      " ConfirmedForeignNational | -                    \n",
      " Cured                    | 0                    \n",
      " Deaths                   | 0                    \n",
      " Confirmed                | 0                    \n",
      "-RECORD 4----------------------------------------\n",
      " summary                  | max                  \n",
      " Sno                      | 16526                \n",
      " Date                     | 2021-06-28           \n",
      " Time                     | 9:30 PM              \n",
      " State/UnionTerritory     | West Bengal          \n",
      " ConfirmedIndianNational  | 9                    \n",
      " ConfirmedForeignNational | 9                    \n",
      " Cured                    | 5790113              \n",
      " Deaths                   | 121286               \n",
      " Confirmed                | 6036821              \n",
      "\n"
     ]
    }
   ],
   "source": [
    "data_frame.select('*').describe().show(vertical=True)"
   ]
  },
  {
   "cell_type": "code",
   "execution_count": 12,
   "id": "80d9765b-4c76-41c3-b12d-1b76dd71d4fb",
   "metadata": {
    "tags": []
   },
   "outputs": [
    {
     "name": "stdout",
     "output_type": "stream",
     "text": [
      "+---+----------+-------+--------------------+-----------------------+------------------------+-----+------+---------+\n",
      "|Sno|      Date|   Time|State/UnionTerritory|ConfirmedIndianNational|ConfirmedForeignNational|Cured|Deaths|Confirmed|\n",
      "+---+----------+-------+--------------------+-----------------------+------------------------+-----+------+---------+\n",
      "|  1|2020-01-30|6:00 PM|              Kerala|                      1|                       0|    0|     0|        1|\n",
      "|  2|2020-01-31|6:00 PM|              Kerala|                      1|                       0|    0|     0|        1|\n",
      "|  3|2020-02-01|6:00 PM|              Kerala|                      2|                       0|    0|     0|        2|\n",
      "|  4|2020-02-02|6:00 PM|              Kerala|                      3|                       0|    0|     0|        3|\n",
      "|  5|2020-02-03|6:00 PM|              Kerala|                      3|                       0|    0|     0|        3|\n",
      "|  6|2020-02-04|6:00 PM|              Kerala|                      3|                       0|    0|     0|        3|\n",
      "|  7|2020-02-05|6:00 PM|              Kerala|                      3|                       0|    0|     0|        3|\n",
      "|  8|2020-02-06|6:00 PM|              Kerala|                      3|                       0|    0|     0|        3|\n",
      "|  9|2020-02-07|6:00 PM|              Kerala|                      3|                       0|    0|     0|        3|\n",
      "| 10|2020-02-08|6:00 PM|              Kerala|                      3|                       0|    0|     0|        3|\n",
      "| 11|2020-02-09|6:00 PM|              Kerala|                      3|                       0|    0|     0|        3|\n",
      "| 12|2020-02-10|6:00 PM|              Kerala|                      3|                       0|    0|     0|        3|\n",
      "| 13|2020-02-11|6:00 PM|              Kerala|                      3|                       0|    0|     0|        3|\n",
      "| 14|2020-02-12|6:00 PM|              Kerala|                      3|                       0|    0|     0|        3|\n",
      "| 15|2020-02-13|6:00 PM|              Kerala|                      3|                       0|    0|     0|        3|\n",
      "| 16|2020-02-14|6:00 PM|              Kerala|                      3|                       0|    0|     0|        3|\n",
      "| 17|2020-02-15|6:00 PM|              Kerala|                      3|                       0|    0|     0|        3|\n",
      "| 18|2020-02-16|6:00 PM|              Kerala|                      3|                       0|    0|     0|        3|\n",
      "| 19|2020-02-17|6:00 PM|              Kerala|                      3|                       0|    0|     0|        3|\n",
      "| 20|2020-02-18|6:00 PM|              Kerala|                      3|                       0|    0|     0|        3|\n",
      "+---+----------+-------+--------------------+-----------------------+------------------------+-----+------+---------+\n",
      "only showing top 20 rows\n",
      "\n"
     ]
    }
   ],
   "source": [
    "data_frame.show()"
   ]
  },
  {
   "cell_type": "code",
   "execution_count": 13,
   "id": "22a08884-03d4-416e-bceb-04170d45e3b9",
   "metadata": {
    "tags": []
   },
   "outputs": [
    {
     "name": "stdout",
     "output_type": "stream",
     "text": [
      "+-----+----------+-------+--------------------+-----------------------+------------------------+-----+------+---------+\n",
      "|  Sno|      Date|   Time|State/UnionTerritory|ConfirmedIndianNational|ConfirmedForeignNational|Cured|Deaths|Confirmed|\n",
      "+-----+----------+-------+--------------------+-----------------------+------------------------+-----+------+---------+\n",
      "| 3075|2020-06-16|8:00 AM|             Haryana|                      -|                       -| 3565|   100|     7722|\n",
      "| 8438|2020-11-15|8:00 AM|           Meghalaya|                      -|                       -| 9518|   100|    10632|\n",
      "| 8473|2020-11-16|8:00 AM|           Meghalaya|                      -|                       -| 9594|   100|    10665|\n",
      "| 8714|2020-11-23|8:00 AM|              Ladakh|                      -|                       -| 6911|   100|     7939|\n",
      "| 8760|2020-11-24|8:00 AM|              Sikkim|                      -|                       -| 4406|   100|     4736|\n",
      "|14355|2021-04-29|8:00 AM|            Nagaland|                      -|                       -|12516|   100|    13569|\n",
      "|14391|2021-04-30|8:00 AM|            Nagaland|                      -|                       -|12577|   100|    13750|\n",
      "+-----+----------+-------+--------------------+-----------------------+------------------------+-----+------+---------+\n",
      "\n"
     ]
    }
   ],
   "source": [
    "data_frame.filter(data_frame.Deaths == 100).show()"
   ]
  },
  {
   "cell_type": "markdown",
   "id": "e5b82833-0d48-4abf-a09d-14bc40a600c4",
   "metadata": {
    "jupyter": {
     "outputs_hidden": true
    },
    "tags": []
   },
   "source": []
  },
  {
   "cell_type": "code",
   "execution_count": 14,
   "id": "2fe1d45b-bbe6-477d-ab59-1f9d86f9b6f0",
   "metadata": {
    "tags": []
   },
   "outputs": [
    {
     "name": "stdout",
     "output_type": "stream",
     "text": [
      "+--------------------+--------+----------+-----------+--------------+\n",
      "|State/UnionTerritory|max(Sno)|max(Cured)|max(Deaths)|max(Confirmed)|\n",
      "+--------------------+--------+----------+-----------+--------------+\n",
      "|            Nagaland|   16515|     22951|        487|         24961|\n",
      "|           Karnataka|   16506|   2698822|      34743|       2834630|\n",
      "|              Odisha|   16516|    867402|       3887|        900470|\n",
      "|              Kerala|   16507|   2775967|      12879|       2888894|\n",
      "|              Ladakh|   16508|     19481|        202|         19964|\n",
      "|Dadra and Nagar H...|   16498|     10490|          4|         10539|\n",
      "|          Tamil Nadu|   16521|   2390783|      32290|       2465874|\n",
      "|           Telengana|   14434|    362160|       2312|        443360|\n",
      "|        Chhattisgarh|   16497|    973262|      13431|        993289|\n",
      "|      Andhra Pradesh|   16492|   1822500|      12599|       1879872|\n",
      "|         Lakshadweep|   16509|      9337|         48|          9681|\n",
      "|      Madhya Pradesh|   16510|    779963|       8917|        789696|\n",
      "|              Punjab|   16518|    574872|      15991|        594883|\n",
      "|             Manipur|   16512|     61038|       1124|         67986|\n",
      "|         Daman & Diu|    2891|         0|          0|             2|\n",
      "|Cases being reass...|    4251|         0|          0|          9265|\n",
      "|                 Goa|   16500|    160548|       3039|        166098|\n",
      "|             Mizoram|   16514|     15040|         91|         19455|\n",
      "|           Bihar****|   15883|    701234|       9452|        715730|\n",
      "|Dadra and Nagar H...|   15670|     10261|          4|         10377|\n",
      "+--------------------+--------+----------+-----------+--------------+\n",
      "only showing top 20 rows\n",
      "\n"
     ]
    }
   ],
   "source": [
    "data_frame.groupBy('State/UnionTerritory').max().show()"
   ]
  },
  {
   "cell_type": "code",
   "execution_count": 15,
   "id": "3ac8c26a-7493-49b4-bdfc-52e039f7f627",
   "metadata": {
    "tags": []
   },
   "outputs": [
    {
     "name": "stdout",
     "output_type": "stream",
     "text": [
      "showing the latest data_set\n",
      "+-----+----------+-------+--------------------+-----------------------+------------------------+-------+------+---------+\n",
      "|  Sno|      Date|   Time|State/UnionTerritory|ConfirmedIndianNational|ConfirmedForeignNational|  Cured|Deaths|Confirmed|\n",
      "+-----+----------+-------+--------------------+-----------------------+------------------------+-------+------+---------+\n",
      "|15519|2021-06-01|8:00 AM|Andaman and Nicob...|                      -|                       -|   6719|   115|     7005|\n",
      "|15520|2021-06-01|8:00 AM|      Andhra Pradesh|                      -|                       -|1528360| 10930|  1693085|\n",
      "|15521|2021-06-01|8:00 AM|   Arunachal Pradesh|                      -|                       -|  23402|   115|    27272|\n",
      "|15522|2021-06-01|8:00 AM|               Assam|                      -|                       -| 354810|  3365|   411216|\n",
      "|15523|2021-06-01|8:00 AM|               Bihar|                      -|                       -| 685362|  5163|   706761|\n",
      "|15524|2021-06-01|8:00 AM|          Chandigarh|                      -|                       -|  57526|   753|    60046|\n",
      "|15525|2021-06-01|8:00 AM|        Chhattisgarh|                      -|                       -| 922674| 13048|   971463|\n",
      "|15526|2021-06-01|8:00 AM|Dadra and Nagar H...|                      -|                       -|   9957|     4|    10286|\n",
      "|15527|2021-06-01|8:00 AM|               Delhi|                      -|                       -|1390963| 24237|  1426240|\n",
      "|15528|2021-06-01|8:00 AM|                 Goa|                      -|                       -| 140254|  2649|   155666|\n",
      "+-----+----------+-------+--------------------+-----------------------+------------------------+-------+------+---------+\n",
      "only showing top 10 rows\n",
      "\n"
     ]
    }
   ],
   "source": [
    "df=data_frame.filter(data_frame[\"Date\"]>='2021-06-01')\n",
    "print(\"showing the latest data_set\")\n",
    "df.show(10)"
   ]
  },
  {
   "cell_type": "code",
   "execution_count": null,
   "id": "539b64e2-a42f-4b44-b2cb-3e4b4e8fecd0",
   "metadata": {
    "tags": []
   },
   "outputs": [],
   "source": []
  },
  {
   "cell_type": "code",
   "execution_count": null,
   "id": "67284da5-b901-4a26-92ea-22dea81a439e",
   "metadata": {
    "tags": []
   },
   "outputs": [],
   "source": []
  },
  {
   "cell_type": "code",
   "execution_count": null,
   "id": "c435bea0-1a39-41fa-88f7-97411dbe561f",
   "metadata": {
    "tags": []
   },
   "outputs": [],
   "source": []
  },
  {
   "cell_type": "code",
   "execution_count": 16,
   "id": "7e6d1066-c87c-4cec-a0d1-8e6d70a14beb",
   "metadata": {
    "tags": []
   },
   "outputs": [
    {
     "name": "stdout",
     "output_type": "stream",
     "text": [
      "+--------------------+---------+\n",
      "|State/UnionTerritory|sum_cured|\n",
      "+--------------------+---------+\n",
      "|         Maharashtra|157746115|\n",
      "|              Kerala| 72246911|\n",
      "|           Karnataka| 70825739|\n",
      "|          Tamil Nadu| 60102878|\n",
      "|      Andhra Pradesh| 47652155|\n",
      "|       Uttar Pradesh| 46688518|\n",
      "|         West Bengal| 39357201|\n",
      "|               Delhi| 39249874|\n",
      "|        Chhattisgarh| 26774192|\n",
      "|           Rajasthan| 25985427|\n",
      "|             Gujarat| 22306402|\n",
      "|              Odisha| 22151430|\n",
      "|      Madhya Pradesh| 21614389|\n",
      "|             Haryana| 20988917|\n",
      "|               Bihar| 18253723|\n",
      "|           Telangana| 16146510|\n",
      "|              Punjab| 15546236|\n",
      "|               Assam| 11597010|\n",
      "|           Jharkhand|  9352551|\n",
      "|         Uttarakhand|  8966174|\n",
      "+--------------------+---------+\n",
      "only showing top 20 rows\n",
      "\n"
     ]
    }
   ],
   "source": [
    "df.groupBy('State/UnionTerritory').agg(sum(\"Cured\").alias(\"sum_cured\")).sort(desc(\"sum_cured\")).show()"
   ]
  },
  {
   "cell_type": "code",
   "execution_count": 17,
   "id": "b758a2af-80a4-4eab-95d4-592b9992ec9d",
   "metadata": {
    "tags": []
   },
   "outputs": [
    {
     "name": "stdout",
     "output_type": "stream",
     "text": [
      "+--------------------+-------------+\n",
      "|State/UnionTerritory|sum_confirmed|\n",
      "+--------------------+-------------+\n",
      "|         Maharashtra|    165326813|\n",
      "|           Karnataka|     77012240|\n",
      "|              Kerala|     76274828|\n",
      "|          Tamil Nadu|     65257123|\n",
      "|      Andhra Pradesh|     50496272|\n",
      "|       Uttar Pradesh|     47633221|\n",
      "|         West Bengal|     40690584|\n",
      "|               Delhi|     40063583|\n",
      "|        Chhattisgarh|     27598894|\n",
      "|           Rajasthan|     26557842|\n",
      "|              Odisha|     23683884|\n",
      "|             Gujarat|     22934149|\n",
      "|      Madhya Pradesh|     22038370|\n",
      "|             Haryana|     21413709|\n",
      "|               Bihar|     18624561|\n",
      "|           Telangana|     16874425|\n",
      "|              Punjab|     16399405|\n",
      "|               Assam|     12884862|\n",
      "|           Jharkhand|      9600264|\n",
      "|         Uttarakhand|      9415069|\n",
      "+--------------------+-------------+\n",
      "only showing top 20 rows\n",
      "\n"
     ]
    }
   ],
   "source": [
    "df.groupBy('State/UnionTerritory').agg(sum(\"Confirmed\").alias(\"sum_confirmed\")).sort(desc(\"sum_confirmed\")).show()"
   ]
  },
  {
   "cell_type": "code",
   "execution_count": 18,
   "id": "a02eb760-eb86-42a3-850c-39efe27f8882",
   "metadata": {
    "tags": []
   },
   "outputs": [
    {
     "name": "stdout",
     "output_type": "stream",
     "text": [
      "+--------------------+----------+\n",
      "|State/UnionTerritory|sum_deaths|\n",
      "+--------------------+----------+\n",
      "|         Maharashtra|   3066191|\n",
      "|           Karnataka|    915063|\n",
      "|          Tamil Nadu|    816035|\n",
      "|               Delhi|    692969|\n",
      "|       Uttar Pradesh|    608034|\n",
      "|         West Bengal|    470626|\n",
      "|              Punjab|    432960|\n",
      "|        Chhattisgarh|    372359|\n",
      "|      Andhra Pradesh|    333286|\n",
      "|              Kerala|    310021|\n",
      "|             Gujarat|    279444|\n",
      "|             Haryana|    251059|\n",
      "|           Rajasthan|    245610|\n",
      "|      Madhya Pradesh|    239412|\n",
      "|               Bihar|    210006|\n",
      "|         Uttarakhand|    192604|\n",
      "|           Jharkhand|    142091|\n",
      "|   Jammu and Kashmir|    116470|\n",
      "|               Assam|    110551|\n",
      "|           Telangana|     97364|\n",
      "+--------------------+----------+\n",
      "only showing top 20 rows\n",
      "\n"
     ]
    }
   ],
   "source": [
    "df.groupBy('State/UnionTerritory').agg(sum(\"Deaths\").alias(\"sum_deaths\")).sort(desc(\"sum_deaths\")).show()"
   ]
  },
  {
   "cell_type": "code",
   "execution_count": null,
   "id": "676bf66a-438d-4fa8-ae66-789bd0cc01ac",
   "metadata": {
    "tags": []
   },
   "outputs": [],
   "source": []
  },
  {
   "cell_type": "code",
   "execution_count": null,
   "id": "3f22cb53-af41-40c9-858d-202f46fccfc8",
   "metadata": {
    "tags": []
   },
   "outputs": [],
   "source": []
  },
  {
   "cell_type": "code",
   "execution_count": null,
   "id": "4b2a7e96-1258-4424-8230-bbee03eeb16d",
   "metadata": {
    "tags": []
   },
   "outputs": [],
   "source": []
  },
  {
   "cell_type": "code",
   "execution_count": null,
   "id": "6583f68b-9af1-4537-9b1b-f37e8feedb5e",
   "metadata": {
    "tags": []
   },
   "outputs": [],
   "source": []
  },
  {
   "cell_type": "code",
   "execution_count": null,
   "id": "8806a0a7-6d25-49ad-8d94-947a2f32ab4c",
   "metadata": {
    "tags": []
   },
   "outputs": [],
   "source": []
  },
  {
   "cell_type": "code",
   "execution_count": null,
   "id": "7fe7e68f-63aa-4893-98cd-4642f0ae2864",
   "metadata": {
    "tags": []
   },
   "outputs": [],
   "source": []
  },
  {
   "cell_type": "code",
   "execution_count": null,
   "id": "35431dc1-1f97-4921-9a4f-266566629d08",
   "metadata": {
    "tags": []
   },
   "outputs": [],
   "source": []
  },
  {
   "cell_type": "code",
   "execution_count": null,
   "id": "e6e834d3-6c5f-47b4-8f2c-abdc958f6f28",
   "metadata": {
    "tags": []
   },
   "outputs": [],
   "source": []
  },
  {
   "cell_type": "code",
   "execution_count": 19,
   "id": "f14f04c5-2150-4e20-9bb4-f7af4f1fe2f1",
   "metadata": {
    "tags": []
   },
   "outputs": [
    {
     "name": "stdout",
     "output_type": "stream",
     "text": [
      "****************covid_vaccine_statewise.csv******************************\n",
      "\n",
      "root\n",
      " |-- Updated On: string (nullable = true)\n",
      " |-- State: string (nullable = true)\n",
      " |-- Total Individuals Vaccinated: double (nullable = true)\n",
      " |-- Total Sessions Conducted: double (nullable = true)\n",
      " |-- Total Sites : double (nullable = true)\n",
      " |-- First Dose Administered: double (nullable = true)\n",
      " |-- Second Dose Administered: double (nullable = true)\n",
      " |-- Male(Individuals Vaccinated): double (nullable = true)\n",
      " |-- Female(Individuals Vaccinated): double (nullable = true)\n",
      " |-- Transgender(Individuals Vaccinated): double (nullable = true)\n",
      " |-- Total Covaxin Administered: double (nullable = true)\n",
      " |-- Total CoviShield Administered: double (nullable = true)\n",
      " |-- Total Sputnik V Administered: double (nullable = true)\n",
      " |-- AEFI: double (nullable = true)\n",
      " |-- 18-45 years (Age): double (nullable = true)\n",
      " |-- 45-60 years (Age): double (nullable = true)\n",
      " |-- 60+ years (Age): double (nullable = true)\n",
      " |-- Total Doses Administered: integer (nullable = true)\n",
      "\n"
     ]
    }
   ],
   "source": [
    "print(\"****************covid_vaccine_statewise.csv******************************\\n\")\n",
    "data_frame2.printSchema()"
   ]
  },
  {
   "cell_type": "code",
   "execution_count": 20,
   "id": "4ac46939-6d44-412c-9be1-bd8315bbcefc",
   "metadata": {
    "tags": []
   },
   "outputs": [
    {
     "data": {
      "text/html": [
       "<table border='1'>\n",
       "<tr><th>Updated On</th><th>State</th><th>Total Individuals Vaccinated</th><th>Total Sessions Conducted</th><th>Total Sites </th><th>First Dose Administered</th><th>Second Dose Administered</th><th>Male(Individuals Vaccinated)</th><th>Female(Individuals Vaccinated)</th><th>Transgender(Individuals Vaccinated)</th><th>Total Covaxin Administered</th><th>Total CoviShield Administered</th><th>Total Sputnik V Administered</th><th>AEFI</th><th>18-45 years (Age)</th><th>45-60 years (Age)</th><th>60+ years (Age)</th><th>Total Doses Administered</th></tr>\n",
       "<tr><td>16/01/2021</td><td>India</td><td>48276.0</td><td>3455.0</td><td>2957.0</td><td>48276.0</td><td>0.0</td><td>23757.0</td><td>24517.0</td><td>2.0</td><td>579.0</td><td>47697.0</td><td>null</td><td>null</td><td>null</td><td>null</td><td>null</td><td>48276</td></tr>\n",
       "<tr><td>17/01/2021</td><td>India</td><td>58604.0</td><td>8532.0</td><td>4954.0</td><td>58604.0</td><td>0.0</td><td>27348.0</td><td>31252.0</td><td>4.0</td><td>635.0</td><td>57969.0</td><td>null</td><td>null</td><td>null</td><td>null</td><td>null</td><td>58604</td></tr>\n",
       "<tr><td>18/01/2021</td><td>India</td><td>99449.0</td><td>13611.0</td><td>6583.0</td><td>99449.0</td><td>0.0</td><td>41361.0</td><td>58083.0</td><td>5.0</td><td>1299.0</td><td>98150.0</td><td>null</td><td>null</td><td>null</td><td>null</td><td>null</td><td>99449</td></tr>\n",
       "<tr><td>19/01/2021</td><td>India</td><td>195525.0</td><td>17855.0</td><td>7951.0</td><td>195525.0</td><td>0.0</td><td>81901.0</td><td>113613.0</td><td>11.0</td><td>3017.0</td><td>192508.0</td><td>null</td><td>null</td><td>null</td><td>null</td><td>null</td><td>195525</td></tr>\n",
       "<tr><td>20/01/2021</td><td>India</td><td>251280.0</td><td>25472.0</td><td>10504.0</td><td>251280.0</td><td>0.0</td><td>98111.0</td><td>153145.0</td><td>24.0</td><td>3946.0</td><td>247334.0</td><td>null</td><td>null</td><td>null</td><td>null</td><td>null</td><td>251280</td></tr>\n",
       "<tr><td>21/01/2021</td><td>India</td><td>365965.0</td><td>32226.0</td><td>12600.0</td><td>365965.0</td><td>0.0</td><td>132784.0</td><td>233143.0</td><td>38.0</td><td>5367.0</td><td>360598.0</td><td>null</td><td>null</td><td>null</td><td>null</td><td>null</td><td>365965</td></tr>\n",
       "<tr><td>22/01/2021</td><td>India</td><td>549381.0</td><td>36988.0</td><td>14115.0</td><td>549381.0</td><td>0.0</td><td>193899.0</td><td>355402.0</td><td>80.0</td><td>8128.0</td><td>541253.0</td><td>null</td><td>null</td><td>null</td><td>null</td><td>null</td><td>549381</td></tr>\n",
       "<tr><td>23/01/2021</td><td>India</td><td>759008.0</td><td>43076.0</td><td>15605.0</td><td>759008.0</td><td>0.0</td><td>267856.0</td><td>491049.0</td><td>103.0</td><td>11192.0</td><td>747816.0</td><td>null</td><td>null</td><td>null</td><td>null</td><td>null</td><td>759008</td></tr>\n",
       "<tr><td>24/01/2021</td><td>India</td><td>835058.0</td><td>49851.0</td><td>18111.0</td><td>835058.0</td><td>0.0</td><td>296283.0</td><td>538647.0</td><td>128.0</td><td>13156.0</td><td>821902.0</td><td>null</td><td>null</td><td>null</td><td>null</td><td>null</td><td>835058</td></tr>\n",
       "<tr><td>25/01/2021</td><td>India</td><td>1277104.0</td><td>55151.0</td><td>19682.0</td><td>1277104.0</td><td>0.0</td><td>444137.0</td><td>832766.0</td><td>201.0</td><td>18858.0</td><td>1258246.0</td><td>null</td><td>null</td><td>null</td><td>null</td><td>null</td><td>1277104</td></tr>\n",
       "<tr><td>26/01/2021</td><td>India</td><td>1293784.0</td><td>60821.0</td><td>21467.0</td><td>1293784.0</td><td>0.0</td><td>449119.0</td><td>844448.0</td><td>217.0</td><td>19604.0</td><td>1274180.0</td><td>null</td><td>null</td><td>null</td><td>null</td><td>null</td><td>1293784</td></tr>\n",
       "<tr><td>27/01/2021</td><td>India</td><td>1726490.0</td><td>69495.0</td><td>23737.0</td><td>1726490.0</td><td>0.0</td><td>586081.0</td><td>1140137.0</td><td>272.0</td><td>27377.0</td><td>1699113.0</td><td>null</td><td>null</td><td>null</td><td>null</td><td>null</td><td>1726490</td></tr>\n",
       "<tr><td>28/01/2021</td><td>India</td><td>2295491.0</td><td>78523.0</td><td>25610.0</td><td>2295491.0</td><td>0.0</td><td>771229.0</td><td>1523939.0</td><td>323.0</td><td>36921.0</td><td>2258570.0</td><td>null</td><td>null</td><td>null</td><td>null</td><td>null</td><td>2295491</td></tr>\n",
       "<tr><td>29/01/2021</td><td>India</td><td>2814803.0</td><td>83664.0</td><td>26219.0</td><td>2814803.0</td><td>0.0</td><td>939069.0</td><td>1875368.0</td><td>366.0</td><td>43604.0</td><td>2771199.0</td><td>null</td><td>null</td><td>null</td><td>null</td><td>null</td><td>2814803</td></tr>\n",
       "<tr><td>30/01/2021</td><td>India</td><td>3067736.0</td><td>87822.0</td><td>26643.0</td><td>3067736.0</td><td>0.0</td><td>1022380.0</td><td>2044950.0</td><td>406.0</td><td>48300.0</td><td>3019436.0</td><td>null</td><td>null</td><td>null</td><td>null</td><td>null</td><td>3067736</td></tr>\n",
       "<tr><td>31/01/2021</td><td>India</td><td>3127107.0</td><td>91593.0</td><td>27011.0</td><td>3127107.0</td><td>0.0</td><td>1061307.0</td><td>2065391.0</td><td>409.0</td><td>58890.0</td><td>3068217.0</td><td>null</td><td>null</td><td>null</td><td>null</td><td>null</td><td>3127107</td></tr>\n",
       "<tr><td>01/02/2021</td><td>India</td><td>3350265.0</td><td>97432.0</td><td>27751.0</td><td>3350265.0</td><td>0.0</td><td>1152344.0</td><td>2197431.0</td><td>490.0</td><td>69372.0</td><td>3280893.0</td><td>null</td><td>null</td><td>null</td><td>null</td><td>null</td><td>3350265</td></tr>\n",
       "<tr><td>02/02/2021</td><td>India</td><td>3527971.0</td><td>106461.0</td><td>29522.0</td><td>3527971.0</td><td>0.0</td><td>1218507.0</td><td>2308898.0</td><td>566.0</td><td>76794.0</td><td>3451177.0</td><td>null</td><td>null</td><td>null</td><td>null</td><td>null</td><td>3527971</td></tr>\n",
       "<tr><td>03/02/2021</td><td>India</td><td>3825835.0</td><td>116568.0</td><td>31167.0</td><td>3825835.0</td><td>0.0</td><td>1324273.0</td><td>2500887.0</td><td>675.0</td><td>86001.0</td><td>3739834.0</td><td>null</td><td>null</td><td>null</td><td>null</td><td>null</td><td>3825835</td></tr>\n",
       "<tr><td>04/02/2021</td><td>India</td><td>4314304.0</td><td>126714.0</td><td>32505.0</td><td>4314304.0</td><td>0.0</td><td>1504527.0</td><td>2809042.0</td><td>735.0</td><td>99015.0</td><td>4215289.0</td><td>null</td><td>null</td><td>null</td><td>null</td><td>null</td><td>4314304</td></tr>\n",
       "</table>\n",
       "only showing top 20 rows\n"
      ],
      "text/plain": [
       "+----------+-----+----------------------------+------------------------+------------+-----------------------+------------------------+----------------------------+------------------------------+-----------------------------------+--------------------------+-----------------------------+----------------------------+----+-----------------+-----------------+---------------+------------------------+\n",
       "|Updated On|State|Total Individuals Vaccinated|Total Sessions Conducted|Total Sites |First Dose Administered|Second Dose Administered|Male(Individuals Vaccinated)|Female(Individuals Vaccinated)|Transgender(Individuals Vaccinated)|Total Covaxin Administered|Total CoviShield Administered|Total Sputnik V Administered|AEFI|18-45 years (Age)|45-60 years (Age)|60+ years (Age)|Total Doses Administered|\n",
       "+----------+-----+----------------------------+------------------------+------------+-----------------------+------------------------+----------------------------+------------------------------+-----------------------------------+--------------------------+-----------------------------+----------------------------+----+-----------------+-----------------+---------------+------------------------+\n",
       "|16/01/2021|India|                     48276.0|                  3455.0|      2957.0|                48276.0|                     0.0|                     23757.0|                       24517.0|                                2.0|                     579.0|                      47697.0|                        null|null|             null|             null|           null|                   48276|\n",
       "|17/01/2021|India|                     58604.0|                  8532.0|      4954.0|                58604.0|                     0.0|                     27348.0|                       31252.0|                                4.0|                     635.0|                      57969.0|                        null|null|             null|             null|           null|                   58604|\n",
       "|18/01/2021|India|                     99449.0|                 13611.0|      6583.0|                99449.0|                     0.0|                     41361.0|                       58083.0|                                5.0|                    1299.0|                      98150.0|                        null|null|             null|             null|           null|                   99449|\n",
       "|19/01/2021|India|                    195525.0|                 17855.0|      7951.0|               195525.0|                     0.0|                     81901.0|                      113613.0|                               11.0|                    3017.0|                     192508.0|                        null|null|             null|             null|           null|                  195525|\n",
       "|20/01/2021|India|                    251280.0|                 25472.0|     10504.0|               251280.0|                     0.0|                     98111.0|                      153145.0|                               24.0|                    3946.0|                     247334.0|                        null|null|             null|             null|           null|                  251280|\n",
       "|21/01/2021|India|                    365965.0|                 32226.0|     12600.0|               365965.0|                     0.0|                    132784.0|                      233143.0|                               38.0|                    5367.0|                     360598.0|                        null|null|             null|             null|           null|                  365965|\n",
       "|22/01/2021|India|                    549381.0|                 36988.0|     14115.0|               549381.0|                     0.0|                    193899.0|                      355402.0|                               80.0|                    8128.0|                     541253.0|                        null|null|             null|             null|           null|                  549381|\n",
       "|23/01/2021|India|                    759008.0|                 43076.0|     15605.0|               759008.0|                     0.0|                    267856.0|                      491049.0|                              103.0|                   11192.0|                     747816.0|                        null|null|             null|             null|           null|                  759008|\n",
       "|24/01/2021|India|                    835058.0|                 49851.0|     18111.0|               835058.0|                     0.0|                    296283.0|                      538647.0|                              128.0|                   13156.0|                     821902.0|                        null|null|             null|             null|           null|                  835058|\n",
       "|25/01/2021|India|                   1277104.0|                 55151.0|     19682.0|              1277104.0|                     0.0|                    444137.0|                      832766.0|                              201.0|                   18858.0|                    1258246.0|                        null|null|             null|             null|           null|                 1277104|\n",
       "|26/01/2021|India|                   1293784.0|                 60821.0|     21467.0|              1293784.0|                     0.0|                    449119.0|                      844448.0|                              217.0|                   19604.0|                    1274180.0|                        null|null|             null|             null|           null|                 1293784|\n",
       "|27/01/2021|India|                   1726490.0|                 69495.0|     23737.0|              1726490.0|                     0.0|                    586081.0|                     1140137.0|                              272.0|                   27377.0|                    1699113.0|                        null|null|             null|             null|           null|                 1726490|\n",
       "|28/01/2021|India|                   2295491.0|                 78523.0|     25610.0|              2295491.0|                     0.0|                    771229.0|                     1523939.0|                              323.0|                   36921.0|                    2258570.0|                        null|null|             null|             null|           null|                 2295491|\n",
       "|29/01/2021|India|                   2814803.0|                 83664.0|     26219.0|              2814803.0|                     0.0|                    939069.0|                     1875368.0|                              366.0|                   43604.0|                    2771199.0|                        null|null|             null|             null|           null|                 2814803|\n",
       "|30/01/2021|India|                   3067736.0|                 87822.0|     26643.0|              3067736.0|                     0.0|                   1022380.0|                     2044950.0|                              406.0|                   48300.0|                    3019436.0|                        null|null|             null|             null|           null|                 3067736|\n",
       "|31/01/2021|India|                   3127107.0|                 91593.0|     27011.0|              3127107.0|                     0.0|                   1061307.0|                     2065391.0|                              409.0|                   58890.0|                    3068217.0|                        null|null|             null|             null|           null|                 3127107|\n",
       "|01/02/2021|India|                   3350265.0|                 97432.0|     27751.0|              3350265.0|                     0.0|                   1152344.0|                     2197431.0|                              490.0|                   69372.0|                    3280893.0|                        null|null|             null|             null|           null|                 3350265|\n",
       "|02/02/2021|India|                   3527971.0|                106461.0|     29522.0|              3527971.0|                     0.0|                   1218507.0|                     2308898.0|                              566.0|                   76794.0|                    3451177.0|                        null|null|             null|             null|           null|                 3527971|\n",
       "|03/02/2021|India|                   3825835.0|                116568.0|     31167.0|              3825835.0|                     0.0|                   1324273.0|                     2500887.0|                              675.0|                   86001.0|                    3739834.0|                        null|null|             null|             null|           null|                 3825835|\n",
       "|04/02/2021|India|                   4314304.0|                126714.0|     32505.0|              4314304.0|                     0.0|                   1504527.0|                     2809042.0|                              735.0|                   99015.0|                    4215289.0|                        null|null|             null|             null|           null|                 4314304|\n",
       "+----------+-----+----------------------------+------------------------+------------+-----------------------+------------------------+----------------------------+------------------------------+-----------------------------------+--------------------------+-----------------------------+----------------------------+----+-----------------+-----------------+---------------+------------------------+\n",
       "only showing top 20 rows"
      ]
     },
     "execution_count": 20,
     "metadata": {},
     "output_type": "execute_result"
    }
   ],
   "source": [
    "data_frame2"
   ]
  },
  {
   "cell_type": "code",
   "execution_count": null,
   "id": "4253c695-33ab-4da3-9fb2-eb1c8e645d84",
   "metadata": {
    "tags": []
   },
   "outputs": [],
   "source": []
  },
  {
   "cell_type": "code",
   "execution_count": null,
   "id": "af26d384-4918-4dd0-a6fd-8d0f2312f291",
   "metadata": {
    "tags": []
   },
   "outputs": [],
   "source": []
  },
  {
   "cell_type": "code",
   "execution_count": null,
   "id": "69681b32-a032-4a35-b4dc-0cff2b151b12",
   "metadata": {
    "tags": []
   },
   "outputs": [],
   "source": []
  },
  {
   "cell_type": "code",
   "execution_count": null,
   "id": "afc7dcdf-cf4a-43f6-9b0d-4ec062a11ecf",
   "metadata": {
    "tags": []
   },
   "outputs": [],
   "source": []
  },
  {
   "cell_type": "code",
   "execution_count": null,
   "id": "3b061bac-7287-41b8-bc8c-3b69cf3fcb55",
   "metadata": {
    "tags": []
   },
   "outputs": [],
   "source": []
  },
  {
   "cell_type": "code",
   "execution_count": 21,
   "id": "d8ebc35d-9d3e-49ca-8922-40adf994e1e3",
   "metadata": {
    "tags": []
   },
   "outputs": [
    {
     "name": "stdout",
     "output_type": "stream",
     "text": [
      "*****************StatewiseTestingDetails.csv*****************************\n",
      "\n",
      "root\n",
      " |-- Date: string (nullable = true)\n",
      " |-- State: string (nullable = true)\n",
      " |-- TotalSamples: double (nullable = true)\n",
      " |-- Negative: string (nullable = true)\n",
      " |-- Positive: double (nullable = true)\n",
      "\n"
     ]
    },
    {
     "data": {
      "text/html": [
       "<table border='1'>\n",
       "<tr><th>Date</th><th>State</th><th>TotalSamples</th><th>Negative</th><th>Positive</th></tr>\n",
       "<tr><td>2020-04-17</td><td>Andaman and Nicob...</td><td>1403.0</td><td>1210</td><td>12.0</td></tr>\n",
       "<tr><td>2020-04-24</td><td>Andaman and Nicob...</td><td>2679.0</td><td>null</td><td>27.0</td></tr>\n",
       "<tr><td>2020-04-27</td><td>Andaman and Nicob...</td><td>2848.0</td><td>null</td><td>33.0</td></tr>\n",
       "<tr><td>2020-05-01</td><td>Andaman and Nicob...</td><td>3754.0</td><td>null</td><td>33.0</td></tr>\n",
       "<tr><td>2020-05-16</td><td>Andaman and Nicob...</td><td>6677.0</td><td>null</td><td>33.0</td></tr>\n",
       "<tr><td>2020-05-19</td><td>Andaman and Nicob...</td><td>6965.0</td><td>null</td><td>33.0</td></tr>\n",
       "<tr><td>2020-05-20</td><td>Andaman and Nicob...</td><td>7082.0</td><td>null</td><td>33.0</td></tr>\n",
       "<tr><td>2020-05-21</td><td>Andaman and Nicob...</td><td>7167.0</td><td>null</td><td>33.0</td></tr>\n",
       "<tr><td>2020-05-22</td><td>Andaman and Nicob...</td><td>7263.0</td><td>null</td><td>33.0</td></tr>\n",
       "<tr><td>2020-05-23</td><td>Andaman and Nicob...</td><td>7327.0</td><td>null</td><td>33.0</td></tr>\n",
       "<tr><td>2020-05-24</td><td>Andaman and Nicob...</td><td>7327.0</td><td>null</td><td>33.0</td></tr>\n",
       "<tr><td>2020-05-25</td><td>Andaman and Nicob...</td><td>7363.0</td><td>null</td><td>33.0</td></tr>\n",
       "<tr><td>2020-05-26</td><td>Andaman and Nicob...</td><td>7448.0</td><td>null</td><td>33.0</td></tr>\n",
       "<tr><td>2020-05-27</td><td>Andaman and Nicob...</td><td>7499.0</td><td>null</td><td>33.0</td></tr>\n",
       "<tr><td>2020-05-28</td><td>Andaman and Nicob...</td><td>7519.0</td><td>null</td><td>33.0</td></tr>\n",
       "<tr><td>2020-05-29</td><td>Andaman and Nicob...</td><td>7567.0</td><td>null</td><td>33.0</td></tr>\n",
       "<tr><td>2020-05-30</td><td>Andaman and Nicob...</td><td>7567.0</td><td>null</td><td>33.0</td></tr>\n",
       "<tr><td>2020-05-31</td><td>Andaman and Nicob...</td><td>7706.0</td><td>null</td><td>33.0</td></tr>\n",
       "<tr><td>2020-06-01</td><td>Andaman and Nicob...</td><td>7805.0</td><td>null</td><td>33.0</td></tr>\n",
       "<tr><td>2020-06-02</td><td>Andaman and Nicob...</td><td>8086.0</td><td>null</td><td>33.0</td></tr>\n",
       "</table>\n",
       "only showing top 20 rows\n"
      ],
      "text/plain": [
       "+----------+--------------------+------------+--------+--------+\n",
       "|      Date|               State|TotalSamples|Negative|Positive|\n",
       "+----------+--------------------+------------+--------+--------+\n",
       "|2020-04-17|Andaman and Nicob...|      1403.0|    1210|    12.0|\n",
       "|2020-04-24|Andaman and Nicob...|      2679.0|    null|    27.0|\n",
       "|2020-04-27|Andaman and Nicob...|      2848.0|    null|    33.0|\n",
       "|2020-05-01|Andaman and Nicob...|      3754.0|    null|    33.0|\n",
       "|2020-05-16|Andaman and Nicob...|      6677.0|    null|    33.0|\n",
       "|2020-05-19|Andaman and Nicob...|      6965.0|    null|    33.0|\n",
       "|2020-05-20|Andaman and Nicob...|      7082.0|    null|    33.0|\n",
       "|2020-05-21|Andaman and Nicob...|      7167.0|    null|    33.0|\n",
       "|2020-05-22|Andaman and Nicob...|      7263.0|    null|    33.0|\n",
       "|2020-05-23|Andaman and Nicob...|      7327.0|    null|    33.0|\n",
       "|2020-05-24|Andaman and Nicob...|      7327.0|    null|    33.0|\n",
       "|2020-05-25|Andaman and Nicob...|      7363.0|    null|    33.0|\n",
       "|2020-05-26|Andaman and Nicob...|      7448.0|    null|    33.0|\n",
       "|2020-05-27|Andaman and Nicob...|      7499.0|    null|    33.0|\n",
       "|2020-05-28|Andaman and Nicob...|      7519.0|    null|    33.0|\n",
       "|2020-05-29|Andaman and Nicob...|      7567.0|    null|    33.0|\n",
       "|2020-05-30|Andaman and Nicob...|      7567.0|    null|    33.0|\n",
       "|2020-05-31|Andaman and Nicob...|      7706.0|    null|    33.0|\n",
       "|2020-06-01|Andaman and Nicob...|      7805.0|    null|    33.0|\n",
       "|2020-06-02|Andaman and Nicob...|      8086.0|    null|    33.0|\n",
       "+----------+--------------------+------------+--------+--------+\n",
       "only showing top 20 rows"
      ]
     },
     "execution_count": 21,
     "metadata": {},
     "output_type": "execute_result"
    }
   ],
   "source": [
    "print(\"*****************StatewiseTestingDetails.csv*****************************\\n\")\n",
    "data_frame3.printSchema()\n",
    "data_frame3"
   ]
  },
  {
   "cell_type": "code",
   "execution_count": 22,
   "id": "fe1ba0f7-cd0e-4266-a802-7f1d4b86d130",
   "metadata": {
    "tags": []
   },
   "outputs": [
    {
     "name": "stdout",
     "output_type": "stream",
     "text": [
      "+----------+--------------------+------------+--------+--------+\n",
      "|      Date|               State|TotalSamples|Negative|Positive|\n",
      "+----------+--------------------+------------+--------+--------+\n",
      "|2020-04-17|Andaman and Nicob...|      1403.0|    1210|    12.0|\n",
      "|2020-04-24|Andaman and Nicob...|      2679.0|    null|    27.0|\n",
      "|2020-04-27|Andaman and Nicob...|      2848.0|    null|    33.0|\n",
      "|2020-05-01|Andaman and Nicob...|      3754.0|    null|    33.0|\n",
      "|2020-05-16|Andaman and Nicob...|      6677.0|    null|    33.0|\n",
      "|2020-05-19|Andaman and Nicob...|      6965.0|    null|    33.0|\n",
      "|2020-05-20|Andaman and Nicob...|      7082.0|    null|    33.0|\n",
      "|2020-05-21|Andaman and Nicob...|      7167.0|    null|    33.0|\n",
      "|2020-05-22|Andaman and Nicob...|      7263.0|    null|    33.0|\n",
      "|2020-05-23|Andaman and Nicob...|      7327.0|    null|    33.0|\n",
      "|2020-05-24|Andaman and Nicob...|      7327.0|    null|    33.0|\n",
      "|2020-05-25|Andaman and Nicob...|      7363.0|    null|    33.0|\n",
      "|2020-05-26|Andaman and Nicob...|      7448.0|    null|    33.0|\n",
      "|2020-05-27|Andaman and Nicob...|      7499.0|    null|    33.0|\n",
      "|2020-05-28|Andaman and Nicob...|      7519.0|    null|    33.0|\n",
      "|2020-05-29|Andaman and Nicob...|      7567.0|    null|    33.0|\n",
      "|2020-05-30|Andaman and Nicob...|      7567.0|    null|    33.0|\n",
      "|2020-05-31|Andaman and Nicob...|      7706.0|    null|    33.0|\n",
      "|2020-06-01|Andaman and Nicob...|      7805.0|    null|    33.0|\n",
      "|2020-06-02|Andaman and Nicob...|      8086.0|    null|    33.0|\n",
      "+----------+--------------------+------------+--------+--------+\n",
      "only showing top 20 rows\n",
      "\n"
     ]
    }
   ],
   "source": [
    "data_frame3.show()"
   ]
  },
  {
   "cell_type": "code",
   "execution_count": null,
   "id": "0f640a46-937a-43b5-97fc-7a1845b79f8a",
   "metadata": {},
   "outputs": [],
   "source": []
  },
  {
   "cell_type": "code",
   "execution_count": null,
   "id": "9b2afed8-5357-4794-a285-a4856379b18d",
   "metadata": {},
   "outputs": [],
   "source": []
  },
  {
   "cell_type": "code",
   "execution_count": null,
   "id": "9a2fc1cc-8d29-4574-8e48-ecd1928f7843",
   "metadata": {},
   "outputs": [],
   "source": []
  },
  {
   "cell_type": "code",
   "execution_count": null,
   "id": "8a3e9800-60e1-4952-8ca6-d58b9c620875",
   "metadata": {},
   "outputs": [],
   "source": []
  },
  {
   "cell_type": "code",
   "execution_count": null,
   "id": "a5af1202-c92b-4734-b590-ad25bee96bfe",
   "metadata": {},
   "outputs": [],
   "source": []
  },
  {
   "cell_type": "code",
   "execution_count": null,
   "id": "d5339fb6-744a-42a5-8ef9-e213e161a142",
   "metadata": {},
   "outputs": [],
   "source": []
  },
  {
   "cell_type": "code",
   "execution_count": 23,
   "id": "b36ec412-8c7c-4c21-b5b8-b69463ff2309",
   "metadata": {
    "tags": []
   },
   "outputs": [
    {
     "name": "stdout",
     "output_type": "stream",
     "text": [
      "No null values in the data_frame\n",
      "+---------------------------------------------+\n",
      "|count(CASE WHEN (Date IS NULL) THEN true END)|\n",
      "+---------------------------------------------+\n",
      "|                                            0|\n",
      "+---------------------------------------------+\n",
      "\n",
      "+---+----+----+--------------------+-----------------------+------------------------+-----+------+---------+\n",
      "|Sno|Date|Time|State/UnionTerritory|ConfirmedIndianNational|ConfirmedForeignNational|Cured|Deaths|Confirmed|\n",
      "+---+----+----+--------------------+-----------------------+------------------------+-----+------+---------+\n",
      "|  0|   0|   0|                   0|                      0|                       0|    0|     0|        0|\n",
      "+---+----+----+--------------------+-----------------------+------------------------+-----+------+---------+\n",
      "\n",
      "+----------+-----+----------------------------+------------------------+------------+-----------------------+------------------------+----------------------------+------------------------------+-----------------------------------+--------------------------+-----------------------------+----------------------------+----+-----------------+-----------------+---------------+------------------------+\n",
      "|Updated On|State|Total Individuals Vaccinated|Total Sessions Conducted|Total Sites |First Dose Administered|Second Dose Administered|Male(Individuals Vaccinated)|Female(Individuals Vaccinated)|Transgender(Individuals Vaccinated)|Total Covaxin Administered|Total CoviShield Administered|Total Sputnik V Administered|AEFI|18-45 years (Age)|45-60 years (Age)|60+ years (Age)|Total Doses Administered|\n",
      "+----------+-----+----------------------------+------------------------+------------+-----------------------+------------------------+----------------------------+------------------------------+-----------------------------------+--------------------------+-----------------------------+----------------------------+----+-----------------+-----------------+---------------+------------------------+\n",
      "|         0|    0|                           1|                       1|           1|                      1|                       1|                           1|                             1|                                  1|                         1|                            1|                        4627|2184|             2187|             2186|           2186|                       0|\n",
      "+----------+-----+----------------------------+------------------------+------------+-----------------------+------------------------+----------------------------+------------------------------+-----------------------------------+--------------------------+-----------------------------+----------------------------+----+-----------------+-----------------+---------------+------------------------+\n",
      "\n",
      "+----+-----+------------+--------+--------+\n",
      "|Date|State|TotalSamples|Negative|Positive|\n",
      "+----+-----+------------+--------+--------+\n",
      "|   0|    0|           0|    8232|    9237|\n",
      "+----+-----+------------+--------+--------+\n",
      "\n"
     ]
    }
   ],
   "source": [
    "#Step1:- Data Analysis \n",
    " #       showing no null values \n",
    "print(\"No null values in the data_frame\")\n",
    "\n",
    "\n",
    "data_frame.select([count(when(col('Date').isNull(),True))]).show()\n",
    "data_frame.select([count(when(isnan(c) | col(c).isNull(), c)).alias(c) for c in data_frame.columns]).show()\n",
    "\n",
    "\n",
    "#data_frame2.select([count(when(col('Date').isNull(),True))]).show()\n",
    "data_frame2.select([count(when(isnan(c) | col(c).isNull(), c)).alias(c) for c in data_frame2.columns]).show()\n",
    "\n",
    "\n",
    "#data_frame3.select([count(when(col('Date').isNull(),True))]).show()\n",
    "data_frame3.select([count(when(isnan(c) | col(c).isNull(), c)).alias(c) for c in data_frame3.columns]).show()"
   ]
  },
  {
   "cell_type": "code",
   "execution_count": null,
   "id": "3c3e6516-706b-416d-b2bd-4cbff5ae94fb",
   "metadata": {},
   "outputs": [],
   "source": []
  },
  {
   "cell_type": "code",
   "execution_count": null,
   "id": "35a3bb7d-c85f-4e25-b725-8e753a51191a",
   "metadata": {
    "tags": []
   },
   "outputs": [],
   "source": []
  },
  {
   "cell_type": "code",
   "execution_count": null,
   "id": "561e524f-1b8e-4ecd-8bbf-f5c6fe348a72",
   "metadata": {},
   "outputs": [],
   "source": []
  },
  {
   "cell_type": "code",
   "execution_count": null,
   "id": "9ee621ad-19ad-4d26-9ede-7db27fb61081",
   "metadata": {},
   "outputs": [],
   "source": []
  },
  {
   "cell_type": "code",
   "execution_count": null,
   "id": "98048271-f745-4601-b96f-fc8aaad70265",
   "metadata": {},
   "outputs": [],
   "source": []
  },
  {
   "cell_type": "code",
   "execution_count": null,
   "id": "ce793a7d-fae1-4b38-adff-54e4b7e78a88",
   "metadata": {},
   "outputs": [],
   "source": []
  },
  {
   "cell_type": "code",
   "execution_count": null,
   "id": "1e184975-7a16-4c68-a138-3937d6ede64b",
   "metadata": {},
   "outputs": [],
   "source": []
  },
  {
   "cell_type": "code",
   "execution_count": null,
   "id": "d7bfcc5c-9768-446b-a8bb-2a010b804df7",
   "metadata": {},
   "outputs": [],
   "source": []
  },
  {
   "cell_type": "code",
   "execution_count": null,
   "id": "c9f2faba-c4ee-4af2-92d0-8e85bbfa3054",
   "metadata": {},
   "outputs": [],
   "source": []
  },
  {
   "cell_type": "code",
   "execution_count": null,
   "id": "0c196461-c552-44ba-be44-ca9a28a38877",
   "metadata": {},
   "outputs": [],
   "source": []
  }
 ],
 "metadata": {
  "kernelspec": {
   "display_name": "Python 3 (ipykernel)",
   "language": "python",
   "name": "python3"
  },
  "language_info": {
   "codemirror_mode": {
    "name": "ipython",
    "version": 3
   },
   "file_extension": ".py",
   "mimetype": "text/x-python",
   "name": "python",
   "nbconvert_exporter": "python",
   "pygments_lexer": "ipython3",
   "version": "3.9.1"
  }
 },
 "nbformat": 4,
 "nbformat_minor": 5
}
